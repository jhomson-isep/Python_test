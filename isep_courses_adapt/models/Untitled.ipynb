{
 "cells": [
  {
   "cell_type": "code",
   "execution_count": 1,
   "metadata": {},
   "outputs": [
    {
     "data": {
      "text/plain": [
       "datetime.datetime(2014, 11, 22, 15, 0, 1)"
      ]
     },
     "execution_count": 1,
     "metadata": {},
     "output_type": "execute_result"
    }
   ],
   "source": [
    "import datetime\n",
    "datetime.datetime.utcfromtimestamp(1416668401)"
   ]
  },
  {
   "cell_type": "code",
   "execution_count": 2,
   "metadata": {},
   "outputs": [
    {
     "ename": "ModuleNotFoundError",
     "evalue": "No module named 'odoo'",
     "output_type": "error",
     "traceback": [
      "\u001b[1;31m---------------------------------------------------------------------------\u001b[0m",
      "\u001b[1;31mModuleNotFoundError\u001b[0m                       Traceback (most recent call last)",
      "\u001b[1;32m<ipython-input-2-6f8612546b28>\u001b[0m in \u001b[0;36m<module>\u001b[1;34m()\u001b[0m\n\u001b[1;32m----> 1\u001b[1;33m \u001b[1;32mfrom\u001b[0m \u001b[0modoo\u001b[0m \u001b[1;32mimport\u001b[0m \u001b[0mmodels\u001b[0m\u001b[1;33m,\u001b[0m \u001b[0mfields\u001b[0m\u001b[1;33m\u001b[0m\u001b[0m\n\u001b[0m",
      "\u001b[1;31mModuleNotFoundError\u001b[0m: No module named 'odoo'"
     ]
    }
   ],
   "source": [
    "from odoo import models, fields"
   ]
  },
  {
   "cell_type": "code",
   "execution_count": 3,
   "metadata": {},
   "outputs": [
    {
     "name": "stdout",
     "output_type": "stream",
     "text": [
      "C:\\Users\\iamed\\Downloads\\isep_courses_modules\\isep_modules\\isep_courses_adapt\\models\n"
     ]
    }
   ],
   "source": [
    "!pwd"
   ]
  },
  {
   "cell_type": "code",
   "execution_count": 4,
   "metadata": {},
   "outputs": [
    {
     "ename": "ModuleNotFoundError",
     "evalue": "No module named 'moodle_api'",
     "output_type": "error",
     "traceback": [
      "\u001b[1;31m---------------------------------------------------------------------------\u001b[0m",
      "\u001b[1;31mModuleNotFoundError\u001b[0m                       Traceback (most recent call last)",
      "\u001b[1;32m<ipython-input-4-e6a142d6f823>\u001b[0m in \u001b[0;36m<module>\u001b[1;34m()\u001b[0m\n\u001b[1;32m----> 1\u001b[1;33m \u001b[1;32mimport\u001b[0m \u001b[0mmoodle_api\u001b[0m\u001b[1;33m\u001b[0m\u001b[0m\n\u001b[0m",
      "\u001b[1;31mModuleNotFoundError\u001b[0m: No module named 'moodle_api'"
     ]
    }
   ],
   "source": [
    "import moodle_api"
   ]
  },
  {
   "cell_type": "code",
   "execution_count": 5,
   "metadata": {},
   "outputs": [
    {
     "name": "stderr",
     "output_type": "stream",
     "text": [
      "ERROR: Could not find a version that satisfies the requirement moodle_api (from versions: none)\n",
      "ERROR: No matching distribution found for moodle_api\n"
     ]
    }
   ],
   "source": [
    "!pip install moodle_api"
   ]
  },
  {
   "cell_type": "code",
   "execution_count": 6,
   "metadata": {},
   "outputs": [
    {
     "ename": "IndentationError",
     "evalue": "unindent does not match any outer indentation level (<ipython-input-6-3c2f26a9747e>, line 5)",
     "output_type": "error",
     "traceback": [
      "\u001b[1;36m  File \u001b[1;32m\"<ipython-input-6-3c2f26a9747e>\"\u001b[1;36m, line \u001b[1;32m5\u001b[0m\n\u001b[1;33m    token = config_params.get_param('moodle_token')\u001b[0m\n\u001b[1;37m                                                   ^\u001b[0m\n\u001b[1;31mIndentationError\u001b[0m\u001b[1;31m:\u001b[0m unindent does not match any outer indentation level\n"
     ]
    }
   ],
   "source": [
    "def test(self,key,value):\n",
    "\timport json\n",
    "\tfrom requests import post\n",
    "\tconfig_params = self.env['ir.config_parameter'].sudo()\n",
    "    token = config_params.get_param('moodle_token')\n",
    "    url = config_params.get_param('moodle_url')\n",
    "    endpoint = config_params.get_param('moodle_endpoint')\n",
    "    function='core_user_get_users_by_field'\n",
    "    params = {\n",
    "            'field': key,\n",
    "            'values[0]': str(value)\n",
    "        }\n",
    "    params.update({\n",
    "        'wstoken': token,\n",
    "        'moodlewsrestformat': 'json',\n",
    "        'wsfunction': function\n",
    "    })\n",
    "    dic=json.dumps(params)\n",
    "    response = post(url + endpoint, params)\n",
    "    response = response.json()\n",
    "    return response\n",
    "\n",
    "def search_records_moodle(self,function,ini,end):\n",
    "\tfor i in range(ini,end+1):\n",
    "\t\tresp=function(self,\"id\",i)\n",
    "\t\tif not isinstance(resp,dict):\n",
    "\t\t\tresp=resp[0]\n",
    "\t\t\tprint('{}-{}-{}'.format(resp['id'],resp['lastaccess'],resp['deparment_number']))"
   ]
  },
  {
   "cell_type": "code",
   "execution_count": 7,
   "metadata": {},
   "outputs": [
    {
     "ename": "NameError",
     "evalue": "name 'self' is not defined",
     "output_type": "error",
     "traceback": [
      "\u001b[1;31m---------------------------------------------------------------------------\u001b[0m",
      "\u001b[1;31mNameError\u001b[0m                                 Traceback (most recent call last)",
      "\u001b[1;32m<ipython-input-7-409526c648d1>\u001b[0m in \u001b[0;36m<module>\u001b[1;34m()\u001b[0m\n\u001b[1;32m----> 1\u001b[1;33m \u001b[0mself\u001b[0m\u001b[1;33m\u001b[0m\u001b[0m\n\u001b[0m",
      "\u001b[1;31mNameError\u001b[0m: name 'self' is not defined"
     ]
    }
   ],
   "source": [
    "self"
   ]
  },
  {
   "cell_type": "code",
   "execution_count": 20,
   "metadata": {},
   "outputs": [],
   "source": [
    "def test2(key,value):\n",
    "    import json\n",
    "    from requests import post\n",
    "    token = '4ee1b4ee0c79d92dd49c6ec3ffcf90ca'\n",
    "    url = 'https://campus.isep.es'\n",
    "    endpoint = '/webservice/rest/server.php'\n",
    "    function='core_user_get_users_by_field'\n",
    "    params = {\n",
    "            'field': key,\n",
    "            'values[0]': str(value)\n",
    "        }\n",
    "    params.update({\n",
    "        'wstoken': token,\n",
    "        'moodlewsrestformat': 'json',\n",
    "        'wsfunction': function\n",
    "    })\n",
    "    dic=json.dumps(params)\n",
    "    response = post(url + endpoint, params)\n",
    "    response = response.json()\n",
    "    return response\n",
    "\n",
    "def search_records_moodle(function,ini,end):\n",
    "    import datetime\n",
    "    for i in range(ini,end+1):\n",
    "        resp=function(\"id\",i)\n",
    "        if not isinstance(resp,dict):\n",
    "            resp=resp[0]\n",
    "            print('id:{:6d}-email:{:>20}-lastaccess:{}'.format(resp['id'],resp['email'],datetime.datetime.utcfromtimestamp(resp['lastaccess'])))"
   ]
  },
  {
   "cell_type": "code",
   "execution_count": 21,
   "metadata": {},
   "outputs": [
    {
     "name": "stdout",
     "output_type": "stream",
     "text": [
      "id:     1-email:      root@localhost-lastaccess:1970-01-01 00:00:00\n",
      "id:     8-email:   salvarez@isep.com-lastaccess:2020-11-05 10:54:08\n",
      "id:    45-email:     erodes@isep.com-lastaccess:2020-02-04 20:04:19\n",
      "id:    49-email:     jperez@isep.com-lastaccess:2020-11-02 14:01:35\n",
      "id:    55-email:     egalan@isep.com-lastaccess:2020-11-05 11:53:52\n",
      "id:    59-email:   msicilia@isep.com-lastaccess:2020-11-05 15:22:47\n"
     ]
    }
   ],
   "source": [
    "search_records_moodle(test2,1,100)"
   ]
  },
  {
   "cell_type": "code",
   "execution_count": null,
   "metadata": {},
   "outputs": [
    {
     "name": "stdout",
     "output_type": "stream",
     "text": [
      "id:     1-email:      root@localhost-lastaccess:1970-01-01 00:00:00\n",
      "id:     8-email:   salvarez@isep.com-lastaccess:2020-11-05 10:54:08\n",
      "id:    45-email:     erodes@isep.com-lastaccess:2020-02-04 20:04:19\n",
      "id:    49-email:     jperez@isep.com-lastaccess:2020-11-02 14:01:35\n",
      "id:    55-email:     egalan@isep.com-lastaccess:2020-11-05 11:53:52\n",
      "id:    59-email:   msicilia@isep.com-lastaccess:2020-11-05 15:22:47\n"
     ]
    }
   ],
   "source": [
    "search_records_moodle(test2,1,1000)"
   ]
  },
  {
   "cell_type": "code",
   "execution_count": null,
   "metadata": {},
   "outputs": [],
   "source": []
  }
 ],
 "metadata": {
  "kernelspec": {
   "display_name": "Python 3",
   "language": "python",
   "name": "python3"
  },
  "language_info": {
   "codemirror_mode": {
    "name": "ipython",
    "version": 3
   },
   "file_extension": ".py",
   "mimetype": "text/x-python",
   "name": "python",
   "nbconvert_exporter": "python",
   "pygments_lexer": "ipython3",
   "version": "3.6.5"
  }
 },
 "nbformat": 4,
 "nbformat_minor": 2
}
